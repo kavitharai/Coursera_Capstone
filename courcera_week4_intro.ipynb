{
 "cells": [
  {
   "cell_type": "markdown",
   "metadata": {},
   "source": [
    "# The Battle of the Neighbourhoods - Week 1\n",
    "\n",
    "Business Problem and Background:\n",
    "\n",
    "The City of Las Vegas, is one of the city in the United States with thick population. It is the financial capital of USA. This city provides many business opportunities and the environment of the city have business friendly environment. It is a global hub of business and commerce. For various business sectors such as insurance, finance, banking, accountancy, retailing, world trade, transportation, tourism, real estate, theatre, media, advertising, legal services and fashion this city is considered as hub in United States.\n",
    "As the Las Vegas is highly developed city the cost of living and business is also can be expected to be high. Hence careful analysis is required to start any new business or going for existing business expansion. This analysis will deliver insights to develop good understanding of the business environment. This analysis helps in advantageously targeting the market with reduced risk. Return on Investment from the business also gained back reasonably by this analysis.\n",
    "\n",
    "\n",
    "The business like restraint prepares and serves food and drink to customers. For this service customers in return pay money before or after their meal with an open account. The City of Las Vegas is famous for its excellent cuisine. The city contains almost every country citizens working and contains international cuisines influenced by the city's immigrant history.\n",
    "\n",
    "1.\tIndian food style\n",
    "2.\tCentral and Eastern European immigrants, especially Jewish immigrants - bagels, cheesecake, hot dogs, knishes, and delicatessens\n",
    "3.\tItalian immigrants - Las Vegas-style pizza and Italian cuisine\n",
    "4.\tJewish immigrants and Irish immigrants - pastrami and corned beef\n",
    "5.\tChinese and other Asian restaurants, sandwich joints, trattorias, diners, and coffeehouses are ubiquitous throughout the city\n",
    "6.\tmobile food vendors - Some 4,000 licensed by the city\n",
    "7.\tMiddle Eastern foods such as falafel and kebabs examples of modern Las Vegas street food\n",
    "8.\tIt is famous for not just Pizzerias, Cafe's but also for fine dining Michelin starred restaurants. The city is home to \"nearly one thousand of the finest and most diverse haute cuisine restaurants in the world\", according to Michelin\n",
    "\n",
    "Objective:  \n",
    "The objective is to identify the best neighbourhood of the city to start a restaurant business. This would interest to the people looking to start a new restaurant in any city.\n",
    "\n"
   ]
  },
  {
   "cell_type": "code",
   "execution_count": null,
   "metadata": {},
   "outputs": [],
   "source": []
  }
 ],
 "metadata": {
  "kernelspec": {
   "display_name": "Python 3",
   "language": "python",
   "name": "python3"
  },
  "language_info": {
   "codemirror_mode": {
    "name": "ipython",
    "version": 3
   },
   "file_extension": ".py",
   "mimetype": "text/x-python",
   "name": "python",
   "nbconvert_exporter": "python",
   "pygments_lexer": "ipython3",
   "version": "3.7.6"
  }
 },
 "nbformat": 4,
 "nbformat_minor": 4
}
