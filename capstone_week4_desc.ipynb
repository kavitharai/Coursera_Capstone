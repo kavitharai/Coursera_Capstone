{
 "cells": [
  {
   "cell_type": "markdown",
   "metadata": {},
   "source": [
    "# The Battle of the Neighbourhoods - Week 1\n",
    "\n",
    "Business Problem and Background:\n",
    "\n",
    "The City of Las Vegas, is one of the city in the United States with thick population. It is the financial capital of USA. This city provides many business opportunities and the environment of the city have business friendly environment. It is a global hub of business and commerce. For various business sectors such as insurance, finance, banking, accountancy, retailing, world trade, transportation, tourism, real estate, theatre, media, advertising, legal services and fashion this city is considered as hub in United States.\n",
    "As the Las Vegas is highly developed city the cost of living and business is also can be expected to be high. Hence careful analysis is required to start any new business or going for existing business expansion. This analysis will deliver insights to develop good understanding of the business environment. This analysis helps in advantageously targeting the market with reduced risk. Return on Investment from the business also gained back reasonably by this analysis.\n",
    "\n",
    "Problem Statement:\n",
    "\n",
    "The business like restraint prepares and serves food and drink to customers. For this service customers in return pay money before or after their meal with an open account. The City of Las Vegas is famous for its excellent cuisine. The city contains almost every country citizens working and contains international cuisines influenced by the city's immigrant history.\n",
    "\n",
    "1.\tIndian food style\n",
    "2.\tCentral and Eastern European immigrants, especially Jewish immigrants -    bagels, cheesecake, hot dogs, knishes, and delicatessens\n",
    "3.\tItalian immigrants - Las Vegas-style pizza and Italian cuisine\n",
    "4.\tJewish immigrants and Irish immigrants - pastrami and corned beef\n",
    "5.\tChinese and other Asian restaurants, sandwich joints, trattorias, diners, and coffeehouses are ubiquitous throughout the city\n",
    "6.\tmobile food vendors - Some 4,000 licensed by the city\n",
    "7.\tMiddle Eastern foods such as falafel and kebabs examples of modern Las    Vegas  street food\n",
    "8.\tIt is famous for not just Pizzerias, Cafe's but also for fine dining Michelin starred restaurants. The city is home to \"nearly one thousand of the finest and most diverse haute cuisine restaurants in the world\", according to Michelin.\n",
    "\n",
    "Hence it is evident that doing service and satisfying the customer in such competitive market it is very important and strategic plans are required for survival. Various factors are needed to be studied to decide a perfect business location. The following key factors are key factors are to be considered along with other factors that may impact our business. \n",
    "\n",
    "1.\tPopulation\n",
    "2.\tDemographics\n",
    "3.\tNearby Markets to our business location, for purchasing ingredients and other material to reduce the transport cost and to maintain fresh and quality food at competitive cost?\n",
    "4.\tIdentify the floating population areas where Gymnasiums, Entertainment zones, Parks, public transport stations etc. for establishment.\n",
    "5.\tIdentify the oldest and recent competitors nearby locations along with their quality and price.\n",
    "6.\tSegmentation of the Borough\n",
    "7.\tIdentify saturated and untapped markets\n",
    "\n",
    "Though any new company for example ABC Company Ltd. needs to choose the suitable business location to make good start. One this venture understood be successful then we can repeat the same process in all other locations where we plan our business. To gain confidence initial  process of establishing is most important along with location and its market capacity.\n",
    "\n",
    "Target Audience:\n",
    "\n",
    " A data science team is engaged for identifying and recommending the suitable business location, for ABC Company Ltd. The objective this team to is to identify and recommend the management of the company which location of Las Vegas city is the best suitable place start the restaurant. This process of understanding the business location will help every businessman who are planning to start a new restaurant in Las Vegas city.\n",
    "\n",
    "Success Criteria:\n",
    "\n",
    "The success criteria of any new project is based on a good recommendation of borough/Neighbourhood. The ABC Company Ltd has to take a better choice based on the report of the data science team and also self-study. The major decision can be taken on lack of such kind of restaurants in that location and available nearby supplier according to the requirement.\n",
    "\n"
   ]
  },
  {
   "cell_type": "code",
   "execution_count": null,
   "metadata": {},
   "outputs": [],
   "source": []
  }
 ],
 "metadata": {
  "kernelspec": {
   "display_name": "Python 3",
   "language": "python",
   "name": "python3"
  },
  "language_info": {
   "codemirror_mode": {
    "name": "ipython",
    "version": 3
   },
   "file_extension": ".py",
   "mimetype": "text/x-python",
   "name": "python",
   "nbconvert_exporter": "python",
   "pygments_lexer": "ipython3",
   "version": "3.7.6"
  }
 },
 "nbformat": 4,
 "nbformat_minor": 4
}
